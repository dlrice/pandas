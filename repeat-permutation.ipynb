{
 "metadata": {
  "name": "",
  "signature": "sha256:20678cc14a676d7ab4321f1ad92d84bf3fdfc4a2e36a46bb35201152f6999fcc"
 },
 "nbformat": 3,
 "nbformat_minor": 0,
 "worksheets": [
  {
   "cells": [
    {
     "cell_type": "markdown",
     "metadata": {},
     "source": [
      "This notebook shows how you can use numpy \n",
      "\n",
      "1. To import numeric data from a text file.\n",
      "2. Permute the rows of this data.\n",
      "3. Compute the dot product between two columns of data."
     ]
    },
    {
     "cell_type": "code",
     "collapsed": false,
     "input": [
      "import numpy as np"
     ],
     "language": "python",
     "metadata": {},
     "outputs": [],
     "prompt_number": 96
    },
    {
     "cell_type": "markdown",
     "metadata": {},
     "source": [
      "We can use numpy's loadtxt function to import the columns we want from a text file:"
     ]
    },
    {
     "cell_type": "code",
     "collapsed": false,
     "input": [
      "%cat test.txt"
     ],
     "language": "python",
     "metadata": {},
     "outputs": [
      {
       "output_type": "stream",
       "stream": "stdout",
       "text": [
        "10 101279775 rs78665281 0 101280364 6.07305 6.96471019718\r\n",
        "10 101279848 rs146682763 0 101280364 6.07305 6.96471019718\r\n",
        "10 101280149 rs190939003 0 101280364 6.07305 6.96471019718\r\n",
        "10 101280187 rs148853934 0 0 6.07305 6.96471019718\r\n",
        "10 101280279 rs17094148 0.025736677244346 101280364 6.07305 6.96471019718\r\n"
       ]
      }
     ],
     "prompt_number": 97
    },
    {
     "cell_type": "code",
     "collapsed": false,
     "input": [
      "data = np.loadtxt('test.txt', usecols=(3,4))\n",
      "print data"
     ],
     "language": "python",
     "metadata": {},
     "outputs": [
      {
       "output_type": "stream",
       "stream": "stdout",
       "text": [
        "[[  0.00000000e+00   1.01280364e+08]\n",
        " [  0.00000000e+00   1.01280364e+08]\n",
        " [  0.00000000e+00   1.01280364e+08]\n",
        " [  0.00000000e+00   0.00000000e+00]\n",
        " [  2.57366772e-02   1.01280364e+08]]\n"
       ]
      }
     ],
     "prompt_number": 67
    },
    {
     "cell_type": "markdown",
     "metadata": {},
     "source": [
      "We can convert the marks column (2nd column of data) to 0s and 1s by first creating an array of zeros, testing for >0 and assinging a 1 to those places in the array of zeros."
     ]
    },
    {
     "cell_type": "markdown",
     "metadata": {},
     "source": [
      "First we filter data's second column for the condition > 0 which will create an array of booleans:"
     ]
    },
    {
     "cell_type": "code",
     "collapsed": false,
     "input": [
      "data[:,1]>0"
     ],
     "language": "python",
     "metadata": {},
     "outputs": [
      {
       "metadata": {},
       "output_type": "pyout",
       "prompt_number": 100,
       "text": [
        "array([ True,  True,  True, False,  True], dtype=bool)"
       ]
      }
     ],
     "prompt_number": 100
    },
    {
     "cell_type": "markdown",
     "metadata": {},
     "source": [
      "Where these locations are True assign a value of 1, otherwise leaving everything as a 0"
     ]
    },
    {
     "cell_type": "code",
     "collapsed": false,
     "input": [
      "marks = np.zeros(data.shape[0])\n",
      "marks[data[:,1]>0] = 1\n",
      "print marks"
     ],
     "language": "python",
     "metadata": {},
     "outputs": [
      {
       "output_type": "stream",
       "stream": "stdout",
       "text": [
        "[ 1.  1.  1.  0.  1.]\n"
       ]
      }
     ],
     "prompt_number": 99
    },
    {
     "cell_type": "markdown",
     "metadata": {},
     "source": [
      "We can use numpy's roll function to permute the array. For example:"
     ]
    },
    {
     "cell_type": "code",
     "collapsed": false,
     "input": [
      "a = np.array([0.,1.,2.,3.,4.])\n",
      "print a"
     ],
     "language": "python",
     "metadata": {},
     "outputs": [
      {
       "output_type": "stream",
       "stream": "stdout",
       "text": [
        "[ 0.  1.  2.  3.  4.]\n"
       ]
      }
     ],
     "prompt_number": 70
    },
    {
     "cell_type": "code",
     "collapsed": false,
     "input": [
      "np.roll(a,0)"
     ],
     "language": "python",
     "metadata": {},
     "outputs": [
      {
       "metadata": {},
       "output_type": "pyout",
       "prompt_number": 58,
       "text": [
        "array([ 0.,  1.,  2.,  3.,  4.])"
       ]
      }
     ],
     "prompt_number": 58
    },
    {
     "cell_type": "code",
     "collapsed": false,
     "input": [
      "np.roll(a,1)"
     ],
     "language": "python",
     "metadata": {},
     "outputs": [
      {
       "metadata": {},
       "output_type": "pyout",
       "prompt_number": 59,
       "text": [
        "array([ 4.,  0.,  1.,  2.,  3.])"
       ]
      }
     ],
     "prompt_number": 59
    },
    {
     "cell_type": "code",
     "collapsed": false,
     "input": [
      "np.roll(a,2)"
     ],
     "language": "python",
     "metadata": {},
     "outputs": [
      {
       "metadata": {},
       "output_type": "pyout",
       "prompt_number": 60,
       "text": [
        "array([ 3.,  4.,  0.,  1.,  2.])"
       ]
      }
     ],
     "prompt_number": 60
    },
    {
     "cell_type": "code",
     "collapsed": false,
     "input": [
      "np.roll(a,-1)"
     ],
     "language": "python",
     "metadata": {},
     "outputs": [
      {
       "metadata": {},
       "output_type": "pyout",
       "prompt_number": 61,
       "text": [
        "array([ 1.,  2.,  3.,  4.,  0.])"
       ]
      }
     ],
     "prompt_number": 61
    },
    {
     "cell_type": "markdown",
     "metadata": {},
     "source": [
      "We can use numpy's dot function to find the dot product:"
     ]
    },
    {
     "cell_type": "code",
     "collapsed": false,
     "input": [
      "b = np.ones(5)*0.5"
     ],
     "language": "python",
     "metadata": {},
     "outputs": [],
     "prompt_number": 78
    },
    {
     "cell_type": "code",
     "collapsed": false,
     "input": [
      "print a\n",
      "print b\n",
      "print np.dot(a,b)"
     ],
     "language": "python",
     "metadata": {},
     "outputs": [
      {
       "output_type": "stream",
       "stream": "stdout",
       "text": [
        "[ 0.  1.  2.  3.  4.]\n",
        "[ 0.5  0.5  0.5  0.5  0.5]\n",
        "5.0\n"
       ]
      }
     ],
     "prompt_number": 79
    },
    {
     "cell_type": "markdown",
     "metadata": {},
     "source": [
      "Putting all of this together into a function:"
     ]
    },
    {
     "cell_type": "code",
     "collapsed": false,
     "input": [
      "def repeat_permute(pvals, marks, nperms):\n",
      "    \"\"\"\n",
      "    Permutes the elements of marks (maintains the ordering, just shifts all contents up/down)\n",
      "    and performs the doc product with pvals.\n",
      "\n",
      "    Parameters\n",
      "    ----------\n",
      "    pvals : array_like\n",
      "            An n element array of p values\n",
      "    marks : array_like\n",
      "            An n elment array of 0s and 1s to indicate (FIXME ?)\n",
      "    nperms : int\n",
      "            The number of times to perumte marks\n",
      "    \n",
      "    Returns\n",
      "    r : array_like\n",
      "        The dot products over the nperms\n",
      "    \"\"\"\n",
      "    \n",
      "    r = np.zeros(nperms) # pre-allocate array\n",
      "    for i in range(nperms): # this iterates nperms times\n",
      "        rolled = np.roll(marks, i) # permute the marks i times\n",
      "        r[i] = np.dot(pvals, rolled)\n",
      "        # printing all of this for debugging/testing\n",
      "        print \"------------------------------------------\"\n",
      "        print \"permutation {}\".format(i)\n",
      "        print \"original marks = {}\".format(marks)\n",
      "        print \"permuted marks = {}\".format(rolled)\n",
      "        print \"pvals = {}\".format(pvals)\n",
      "        print \"dot product = {}\".format(r[i])\n",
      "    return r"
     ],
     "language": "python",
     "metadata": {},
     "outputs": [],
     "prompt_number": 103
    },
    {
     "cell_type": "markdown",
     "metadata": {},
     "source": [
      "From the top:"
     ]
    },
    {
     "cell_type": "code",
     "collapsed": false,
     "input": [
      "data = np.loadtxt('test.txt', usecols=(3,4))\n",
      "pvals = data[:,0]\n",
      "marks = np.zeros(data.shape[0])\n",
      "marks[data[:,1]>0] = 1.\n",
      "repeat_permute(pvals, marks, 3)"
     ],
     "language": "python",
     "metadata": {},
     "outputs": [
      {
       "output_type": "stream",
       "stream": "stdout",
       "text": [
        "------------------------------------------\n",
        "permutation 0\n",
        "original marks = [ 1.  1.  1.  0.  1.]\n",
        "permuted marks = [ 1.  1.  1.  0.  1.]\n",
        "pvals = [ 0.          0.          0.          0.          0.02573668]\n",
        "dot product = 0.0257366772443\n",
        "------------------------------------------\n",
        "permutation 1\n",
        "original marks = [ 1.  1.  1.  0.  1.]\n",
        "permuted marks = [ 1.  1.  1.  1.  0.]\n",
        "pvals = [ 0.          0.          0.          0.          0.02573668]\n",
        "dot product = 0.0\n",
        "------------------------------------------\n",
        "permutation 2\n",
        "original marks = [ 1.  1.  1.  0.  1.]\n",
        "permuted marks = [ 0.  1.  1.  1.  1.]\n",
        "pvals = [ 0.          0.          0.          0.          0.02573668]\n",
        "dot product = 0.0257366772443\n"
       ]
      },
      {
       "metadata": {},
       "output_type": "pyout",
       "prompt_number": 104,
       "text": [
        "array([ 0.02573668,  0.        ,  0.02573668])"
       ]
      }
     ],
     "prompt_number": 104
    }
   ],
   "metadata": {}
  }
 ]
}