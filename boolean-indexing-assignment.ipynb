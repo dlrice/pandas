{
 "cells": [
  {
   "cell_type": "code",
   "execution_count": 18,
   "metadata": {
    "collapsed": false
   },
   "outputs": [
    {
     "name": "stdout",
     "output_type": "stream",
     "text": [
      "Pandas version: 0.15.2\n"
     ]
    }
   ],
   "source": [
    "import pandas as pd\n",
    "import itertools # only need this to generate some fake data\n",
    "\n",
    "print 'Pandas version: {}'.format(pd.__version__)"
   ]
  },
  {
   "cell_type": "markdown",
   "metadata": {},
   "source": [
    "#Assigning with boolean indexing"
   ]
  },
  {
   "cell_type": "markdown",
   "metadata": {},
   "source": [
    "The task is to change the contents of a dataframe entry depending on what the values of the other entries (within the same row). The steps to take are:\n",
    "\n",
    "1. Create a random dataframe.\n",
    "2. Create an boolean index Series that will have True and False depending on if the conditions are true.\n",
    "3. Use `loc[rows, columns]` where rows will be the boolean index Sieres, and columns will be the names of the particular columns we want to manipulate."
   ]
  },
  {
   "cell_type": "markdown",
   "metadata": {},
   "source": [
    "##1. Create a random dataframe."
   ]
  },
  {
   "cell_type": "code",
   "execution_count": 17,
   "metadata": {
    "collapsed": false
   },
   "outputs": [
    {
     "name": "stdout",
     "output_type": "stream",
     "text": [
      "df before\n"
     ]
    },
    {
     "data": {
      "text/html": [
       "<div style=\"max-height:1000px;max-width:1500px;overflow:auto;\">\n",
       "<table border=\"1\" class=\"dataframe\">\n",
       "  <thead>\n",
       "    <tr style=\"text-align: right;\">\n",
       "      <th></th>\n",
       "      <th>sex</th>\n",
       "      <th>weight</th>\n",
       "      <th>height</th>\n",
       "    </tr>\n",
       "  </thead>\n",
       "  <tbody>\n",
       "    <tr>\n",
       "      <th>0 </th>\n",
       "      <td>   Male</td>\n",
       "      <td> 100</td>\n",
       "      <td> 60</td>\n",
       "    </tr>\n",
       "    <tr>\n",
       "      <th>1 </th>\n",
       "      <td>   Male</td>\n",
       "      <td> 100</td>\n",
       "      <td> 70</td>\n",
       "    </tr>\n",
       "    <tr>\n",
       "      <th>2 </th>\n",
       "      <td>   Male</td>\n",
       "      <td> 140</td>\n",
       "      <td> 60</td>\n",
       "    </tr>\n",
       "    <tr>\n",
       "      <th>3 </th>\n",
       "      <td>   Male</td>\n",
       "      <td> 140</td>\n",
       "      <td> 70</td>\n",
       "    </tr>\n",
       "    <tr>\n",
       "      <th>4 </th>\n",
       "      <td>   Male</td>\n",
       "      <td> 180</td>\n",
       "      <td> 60</td>\n",
       "    </tr>\n",
       "    <tr>\n",
       "      <th>5 </th>\n",
       "      <td>   Male</td>\n",
       "      <td> 180</td>\n",
       "      <td> 70</td>\n",
       "    </tr>\n",
       "    <tr>\n",
       "      <th>6 </th>\n",
       "      <td> Female</td>\n",
       "      <td> 100</td>\n",
       "      <td> 60</td>\n",
       "    </tr>\n",
       "    <tr>\n",
       "      <th>7 </th>\n",
       "      <td> Female</td>\n",
       "      <td> 100</td>\n",
       "      <td> 70</td>\n",
       "    </tr>\n",
       "    <tr>\n",
       "      <th>8 </th>\n",
       "      <td> Female</td>\n",
       "      <td> 140</td>\n",
       "      <td> 60</td>\n",
       "    </tr>\n",
       "    <tr>\n",
       "      <th>9 </th>\n",
       "      <td> Female</td>\n",
       "      <td> 140</td>\n",
       "      <td> 70</td>\n",
       "    </tr>\n",
       "    <tr>\n",
       "      <th>10</th>\n",
       "      <td> Female</td>\n",
       "      <td> 180</td>\n",
       "      <td> 60</td>\n",
       "    </tr>\n",
       "    <tr>\n",
       "      <th>11</th>\n",
       "      <td> Female</td>\n",
       "      <td> 180</td>\n",
       "      <td> 70</td>\n",
       "    </tr>\n",
       "    <tr>\n",
       "      <th>12</th>\n",
       "      <td> Unisex</td>\n",
       "      <td> 100</td>\n",
       "      <td> 60</td>\n",
       "    </tr>\n",
       "    <tr>\n",
       "      <th>13</th>\n",
       "      <td> Unisex</td>\n",
       "      <td> 100</td>\n",
       "      <td> 70</td>\n",
       "    </tr>\n",
       "    <tr>\n",
       "      <th>14</th>\n",
       "      <td> Unisex</td>\n",
       "      <td> 140</td>\n",
       "      <td> 60</td>\n",
       "    </tr>\n",
       "    <tr>\n",
       "      <th>15</th>\n",
       "      <td> Unisex</td>\n",
       "      <td> 140</td>\n",
       "      <td> 70</td>\n",
       "    </tr>\n",
       "    <tr>\n",
       "      <th>16</th>\n",
       "      <td> Unisex</td>\n",
       "      <td> 180</td>\n",
       "      <td> 60</td>\n",
       "    </tr>\n",
       "    <tr>\n",
       "      <th>17</th>\n",
       "      <td> Unisex</td>\n",
       "      <td> 180</td>\n",
       "      <td> 70</td>\n",
       "    </tr>\n",
       "  </tbody>\n",
       "</table>\n",
       "</div>"
      ],
      "text/plain": [
       "       sex  weight  height\n",
       "0     Male     100      60\n",
       "1     Male     100      70\n",
       "2     Male     140      60\n",
       "3     Male     140      70\n",
       "4     Male     180      60\n",
       "5     Male     180      70\n",
       "6   Female     100      60\n",
       "7   Female     100      70\n",
       "8   Female     140      60\n",
       "9   Female     140      70\n",
       "10  Female     180      60\n",
       "11  Female     180      70\n",
       "12  Unisex     100      60\n",
       "13  Unisex     100      70\n",
       "14  Unisex     140      60\n",
       "15  Unisex     140      70\n",
       "16  Unisex     180      60\n",
       "17  Unisex     180      70"
      ]
     },
     "execution_count": 17,
     "metadata": {},
     "output_type": "execute_result"
    }
   ],
   "source": [
    "def expand_grid(data_dict):\n",
    "    rows = itertools.product(*data_dict.values())\n",
    "    return pd.DataFrame.from_records(rows, columns=data_dict.keys())\n",
    "\n",
    "df = expand_grid(\n",
    "       {'height': [60, 70],\n",
    "        'weight': [100, 140, 180],\n",
    "        'sex': ['Male', 'Female', 'Unisex']})\n",
    "print 'df before'\n",
    "df"
   ]
  },
  {
   "cell_type": "markdown",
   "metadata": {},
   "source": [
    "##2. Create an boolean index Series that will have True and False depending on if the conditions are true."
   ]
  },
  {
   "cell_type": "code",
   "execution_count": 13,
   "metadata": {
    "collapsed": false
   },
   "outputs": [
    {
     "data": {
      "text/plain": [
       "0     False\n",
       "1      True\n",
       "2     False\n",
       "3      True\n",
       "4     False\n",
       "5      True\n",
       "6     False\n",
       "7     False\n",
       "8     False\n",
       "9     False\n",
       "10    False\n",
       "11    False\n",
       "12    False\n",
       "13    False\n",
       "14    False\n",
       "15    False\n",
       "16    False\n",
       "17    False\n",
       "dtype: bool"
      ]
     },
     "execution_count": 13,
     "metadata": {},
     "output_type": "execute_result"
    }
   ],
   "source": [
    "df['new column'] = 0\n",
    "inds = (df['sex'] == 'Male') & \\\n",
    "       (df['height'] == 70)\n",
    "inds"
   ]
  },
  {
   "cell_type": "markdown",
   "metadata": {},
   "source": [
    "##3. Use `loc[rows, columns]` where rows will be the boolean index Sieres, and columns will be the names of the particular columns we want to manipulate."
   ]
  },
  {
   "cell_type": "code",
   "execution_count": 14,
   "metadata": {
    "collapsed": false
   },
   "outputs": [
    {
     "name": "stdout",
     "output_type": "stream",
     "text": [
      "df after\n"
     ]
    },
    {
     "data": {
      "text/html": [
       "<div style=\"max-height:1000px;max-width:1500px;overflow:auto;\">\n",
       "<table border=\"1\" class=\"dataframe\">\n",
       "  <thead>\n",
       "    <tr style=\"text-align: right;\">\n",
       "      <th></th>\n",
       "      <th>sex</th>\n",
       "      <th>weight</th>\n",
       "      <th>height</th>\n",
       "      <th>new column</th>\n",
       "    </tr>\n",
       "  </thead>\n",
       "  <tbody>\n",
       "    <tr>\n",
       "      <th>0 </th>\n",
       "      <td>   Male</td>\n",
       "      <td> 100</td>\n",
       "      <td> 60</td>\n",
       "      <td>  0</td>\n",
       "    </tr>\n",
       "    <tr>\n",
       "      <th>1 </th>\n",
       "      <td>   Male</td>\n",
       "      <td> 100</td>\n",
       "      <td> 70</td>\n",
       "      <td> 70</td>\n",
       "    </tr>\n",
       "    <tr>\n",
       "      <th>2 </th>\n",
       "      <td>   Male</td>\n",
       "      <td> 140</td>\n",
       "      <td> 60</td>\n",
       "      <td>  0</td>\n",
       "    </tr>\n",
       "    <tr>\n",
       "      <th>3 </th>\n",
       "      <td>   Male</td>\n",
       "      <td> 140</td>\n",
       "      <td> 70</td>\n",
       "      <td> 70</td>\n",
       "    </tr>\n",
       "    <tr>\n",
       "      <th>4 </th>\n",
       "      <td>   Male</td>\n",
       "      <td> 180</td>\n",
       "      <td> 60</td>\n",
       "      <td>  0</td>\n",
       "    </tr>\n",
       "    <tr>\n",
       "      <th>5 </th>\n",
       "      <td>   Male</td>\n",
       "      <td> 180</td>\n",
       "      <td> 70</td>\n",
       "      <td> 70</td>\n",
       "    </tr>\n",
       "    <tr>\n",
       "      <th>6 </th>\n",
       "      <td> Female</td>\n",
       "      <td> 100</td>\n",
       "      <td> 60</td>\n",
       "      <td>  0</td>\n",
       "    </tr>\n",
       "    <tr>\n",
       "      <th>7 </th>\n",
       "      <td> Female</td>\n",
       "      <td> 100</td>\n",
       "      <td> 70</td>\n",
       "      <td>  0</td>\n",
       "    </tr>\n",
       "    <tr>\n",
       "      <th>8 </th>\n",
       "      <td> Female</td>\n",
       "      <td> 140</td>\n",
       "      <td> 60</td>\n",
       "      <td>  0</td>\n",
       "    </tr>\n",
       "    <tr>\n",
       "      <th>9 </th>\n",
       "      <td> Female</td>\n",
       "      <td> 140</td>\n",
       "      <td> 70</td>\n",
       "      <td>  0</td>\n",
       "    </tr>\n",
       "    <tr>\n",
       "      <th>10</th>\n",
       "      <td> Female</td>\n",
       "      <td> 180</td>\n",
       "      <td> 60</td>\n",
       "      <td>  0</td>\n",
       "    </tr>\n",
       "    <tr>\n",
       "      <th>11</th>\n",
       "      <td> Female</td>\n",
       "      <td> 180</td>\n",
       "      <td> 70</td>\n",
       "      <td>  0</td>\n",
       "    </tr>\n",
       "    <tr>\n",
       "      <th>12</th>\n",
       "      <td> Unisex</td>\n",
       "      <td> 100</td>\n",
       "      <td> 60</td>\n",
       "      <td>  0</td>\n",
       "    </tr>\n",
       "    <tr>\n",
       "      <th>13</th>\n",
       "      <td> Unisex</td>\n",
       "      <td> 100</td>\n",
       "      <td> 70</td>\n",
       "      <td>  0</td>\n",
       "    </tr>\n",
       "    <tr>\n",
       "      <th>14</th>\n",
       "      <td> Unisex</td>\n",
       "      <td> 140</td>\n",
       "      <td> 60</td>\n",
       "      <td>  0</td>\n",
       "    </tr>\n",
       "    <tr>\n",
       "      <th>15</th>\n",
       "      <td> Unisex</td>\n",
       "      <td> 140</td>\n",
       "      <td> 70</td>\n",
       "      <td>  0</td>\n",
       "    </tr>\n",
       "    <tr>\n",
       "      <th>16</th>\n",
       "      <td> Unisex</td>\n",
       "      <td> 180</td>\n",
       "      <td> 60</td>\n",
       "      <td>  0</td>\n",
       "    </tr>\n",
       "    <tr>\n",
       "      <th>17</th>\n",
       "      <td> Unisex</td>\n",
       "      <td> 180</td>\n",
       "      <td> 70</td>\n",
       "      <td>  0</td>\n",
       "    </tr>\n",
       "  </tbody>\n",
       "</table>\n",
       "</div>"
      ],
      "text/plain": [
       "       sex  weight  height  new column\n",
       "0     Male     100      60           0\n",
       "1     Male     100      70          70\n",
       "2     Male     140      60           0\n",
       "3     Male     140      70          70\n",
       "4     Male     180      60           0\n",
       "5     Male     180      70          70\n",
       "6   Female     100      60           0\n",
       "7   Female     100      70           0\n",
       "8   Female     140      60           0\n",
       "9   Female     140      70           0\n",
       "10  Female     180      60           0\n",
       "11  Female     180      70           0\n",
       "12  Unisex     100      60           0\n",
       "13  Unisex     100      70           0\n",
       "14  Unisex     140      60           0\n",
       "15  Unisex     140      70           0\n",
       "16  Unisex     180      60           0\n",
       "17  Unisex     180      70           0"
      ]
     },
     "execution_count": 14,
     "metadata": {},
     "output_type": "execute_result"
    }
   ],
   "source": [
    "df.loc[inds,'new column'] = df.loc[inds,'height']\n",
    "print 'df after'\n",
    "df"
   ]
  },
  {
   "cell_type": "markdown",
   "metadata": {},
   "source": [
    "###Side note\n",
    "We can also use the `in` to test if an entry exists within a list. The following statements are equivalent:\n",
    "```\n",
    "(df['column'] == 'va11') | (df['column'] == 'va12') | (df['column'] == 'va13')\n",
    "df['column'].map(lambda x: x in ['val1', 'val2', 'val3'])\n",
    "```\n",
    "Using the example data above:"
   ]
  },
  {
   "cell_type": "code",
   "execution_count": 19,
   "metadata": {
    "collapsed": false
   },
   "outputs": [
    {
     "data": {
      "text/plain": [
       "0      True\n",
       "1      True\n",
       "2     False\n",
       "3     False\n",
       "4      True\n",
       "5      True\n",
       "6      True\n",
       "7      True\n",
       "8     False\n",
       "9     False\n",
       "10     True\n",
       "11     True\n",
       "12    False\n",
       "13    False\n",
       "14    False\n",
       "15    False\n",
       "16    False\n",
       "17    False\n",
       "dtype: bool"
      ]
     },
     "execution_count": 19,
     "metadata": {},
     "output_type": "execute_result"
    }
   ],
   "source": [
    "inds = (df['weight'].map(lambda x: x in [100, 180])) & \\\n",
    "       (df['sex'].map(lambda x: x in ['Male', 'Female']))\n",
    "inds"
   ]
  }
 ],
 "metadata": {
  "kernelspec": {
   "display_name": "Python 2",
   "language": "python",
   "name": "python2"
  },
  "language_info": {
   "codemirror_mode": {
    "name": "ipython",
    "version": 2
   },
   "file_extension": ".py",
   "mimetype": "text/x-python",
   "name": "python",
   "nbconvert_exporter": "python",
   "pygments_lexer": "ipython2",
   "version": "2.7.9"
  }
 },
 "nbformat": 4,
 "nbformat_minor": 0
}
