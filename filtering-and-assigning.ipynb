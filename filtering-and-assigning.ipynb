{
 "metadata": {
  "name": "",
  "signature": "sha256:4fd612debe0c9e025aabe6a86e334618ed24a698abd6b1aa93d8ad42a73e3de8"
 },
 "nbformat": 3,
 "nbformat_minor": 0,
 "worksheets": [
  {
   "cells": [
    {
     "cell_type": "code",
     "collapsed": false,
     "input": [
      "import pandas as pd\n",
      "import numpy as np"
     ],
     "language": "python",
     "metadata": {},
     "outputs": [],
     "prompt_number": 4
    },
    {
     "cell_type": "markdown",
     "metadata": {},
     "source": [
      "I've update my pandas to the new version. You can update pandas by running 'conda update pandas' at the terminal - doesn't matter which directory"
     ]
    },
    {
     "cell_type": "code",
     "collapsed": false,
     "input": [
      "df = pd.DataFrame({'key1' : ['a','a','b','b','a'],\n",
      "                   'key2' : ['one', 'two', 'one', 'two', 'one'],\n",
      "                   'data' : np.random.rand(5)})"
     ],
     "language": "python",
     "metadata": {},
     "outputs": [],
     "prompt_number": 13
    },
    {
     "cell_type": "code",
     "collapsed": false,
     "input": [
      "df"
     ],
     "language": "python",
     "metadata": {},
     "outputs": [
      {
       "html": [
        "<div style=\"max-height:1000px;max-width:1500px;overflow:auto;\">\n",
        "<table border=\"1\" class=\"dataframe\">\n",
        "  <thead>\n",
        "    <tr style=\"text-align: right;\">\n",
        "      <th></th>\n",
        "      <th>data</th>\n",
        "      <th>key1</th>\n",
        "      <th>key2</th>\n",
        "    </tr>\n",
        "  </thead>\n",
        "  <tbody>\n",
        "    <tr>\n",
        "      <th>0</th>\n",
        "      <td> 0.938758</td>\n",
        "      <td> a</td>\n",
        "      <td> one</td>\n",
        "    </tr>\n",
        "    <tr>\n",
        "      <th>1</th>\n",
        "      <td> 0.765327</td>\n",
        "      <td> a</td>\n",
        "      <td> two</td>\n",
        "    </tr>\n",
        "    <tr>\n",
        "      <th>2</th>\n",
        "      <td> 0.981806</td>\n",
        "      <td> b</td>\n",
        "      <td> one</td>\n",
        "    </tr>\n",
        "    <tr>\n",
        "      <th>3</th>\n",
        "      <td> 0.882903</td>\n",
        "      <td> b</td>\n",
        "      <td> two</td>\n",
        "    </tr>\n",
        "    <tr>\n",
        "      <th>4</th>\n",
        "      <td> 0.413257</td>\n",
        "      <td> a</td>\n",
        "      <td> one</td>\n",
        "    </tr>\n",
        "  </tbody>\n",
        "</table>\n",
        "</div>"
       ],
       "metadata": {},
       "output_type": "pyout",
       "prompt_number": 14,
       "text": [
        "       data key1 key2\n",
        "0  0.938758    a  one\n",
        "1  0.765327    a  two\n",
        "2  0.981806    b  one\n",
        "3  0.882903    b  two\n",
        "4  0.413257    a  one"
       ]
      }
     ],
     "prompt_number": 14
    },
    {
     "cell_type": "markdown",
     "metadata": {},
     "source": [
      "I've made up these arbitrary conditions where key1 must be equal to 'a' and data must be greater than 0.5. We can add whatever we like to condition on each row. What will get is a Series object of booleans with True indicating all our conditions were met."
     ]
    },
    {
     "cell_type": "code",
     "collapsed": false,
     "input": [
      "ind = (df['key1'] == 'a') & (df['data'] > 0.5)"
     ],
     "language": "python",
     "metadata": {},
     "outputs": [],
     "prompt_number": 8
    },
    {
     "cell_type": "code",
     "collapsed": false,
     "input": [
      "ind"
     ],
     "language": "python",
     "metadata": {},
     "outputs": [
      {
       "metadata": {},
       "output_type": "pyout",
       "prompt_number": 9,
       "text": [
        "0     True\n",
        "1     True\n",
        "2    False\n",
        "3    False\n",
        "4    False\n",
        "dtype: bool"
       ]
      }
     ],
     "prompt_number": 9
    },
    {
     "cell_type": "code",
     "collapsed": false,
     "input": [
      "type(ind)"
     ],
     "language": "python",
     "metadata": {},
     "outputs": [
      {
       "metadata": {},
       "output_type": "pyout",
       "prompt_number": 10,
       "text": [
        "pandas.core.series.Series"
       ]
      }
     ],
     "prompt_number": 10
    },
    {
     "cell_type": "code",
     "collapsed": false,
     "input": [
      "df.loc[ind, 'key2'] = 'changed'"
     ],
     "language": "python",
     "metadata": {},
     "outputs": [],
     "prompt_number": 15
    },
    {
     "cell_type": "markdown",
     "metadata": {},
     "source": [
      "You should now see only the relevant rows changed."
     ]
    },
    {
     "cell_type": "code",
     "collapsed": false,
     "input": [
      "df"
     ],
     "language": "python",
     "metadata": {},
     "outputs": [
      {
       "html": [
        "<div style=\"max-height:1000px;max-width:1500px;overflow:auto;\">\n",
        "<table border=\"1\" class=\"dataframe\">\n",
        "  <thead>\n",
        "    <tr style=\"text-align: right;\">\n",
        "      <th></th>\n",
        "      <th>data</th>\n",
        "      <th>key1</th>\n",
        "      <th>key2</th>\n",
        "    </tr>\n",
        "  </thead>\n",
        "  <tbody>\n",
        "    <tr>\n",
        "      <th>0</th>\n",
        "      <td> 0.938758</td>\n",
        "      <td> a</td>\n",
        "      <td> changed</td>\n",
        "    </tr>\n",
        "    <tr>\n",
        "      <th>1</th>\n",
        "      <td> 0.765327</td>\n",
        "      <td> a</td>\n",
        "      <td> changed</td>\n",
        "    </tr>\n",
        "    <tr>\n",
        "      <th>2</th>\n",
        "      <td> 0.981806</td>\n",
        "      <td> b</td>\n",
        "      <td>     one</td>\n",
        "    </tr>\n",
        "    <tr>\n",
        "      <th>3</th>\n",
        "      <td> 0.882903</td>\n",
        "      <td> b</td>\n",
        "      <td>     two</td>\n",
        "    </tr>\n",
        "    <tr>\n",
        "      <th>4</th>\n",
        "      <td> 0.413257</td>\n",
        "      <td> a</td>\n",
        "      <td>     one</td>\n",
        "    </tr>\n",
        "  </tbody>\n",
        "</table>\n",
        "</div>"
       ],
       "metadata": {},
       "output_type": "pyout",
       "prompt_number": 16,
       "text": [
        "       data key1     key2\n",
        "0  0.938758    a  changed\n",
        "1  0.765327    a  changed\n",
        "2  0.981806    b      one\n",
        "3  0.882903    b      two\n",
        "4  0.413257    a      one"
       ]
      }
     ],
     "prompt_number": 16
    }
   ],
   "metadata": {}
  }
 ]
}