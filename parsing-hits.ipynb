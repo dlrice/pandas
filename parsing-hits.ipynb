{
 "metadata": {
  "name": "",
  "signature": "sha256:e025c7b93276a8ac1e0dd79fcf7608f10879c85137ee2128fe6ab355aa8a16e9"
 },
 "nbformat": 3,
 "nbformat_minor": 0,
 "worksheets": [
  {
   "cells": [
    {
     "cell_type": "code",
     "collapsed": false,
     "input": [
      "import pandas as pd\n",
      "import numpy as np"
     ],
     "language": "python",
     "metadata": {},
     "outputs": [],
     "prompt_number": 9
    },
    {
     "cell_type": "code",
     "collapsed": false,
     "input": [
      "df2 = pd.DataFrame({'Col1': [23, 34, 453],\n",
      "                   'Text' : ['eQTL| 1| 43 , xyz | 4 | 53, eQTL| 54| 854 ', 'rSNP | 32 | abc , xz | 4 | 53', 'eQTL| 454| 9907 , xyz | 4 | 53']})\n",
      "df2"
     ],
     "language": "python",
     "metadata": {},
     "outputs": [
      {
       "html": [
        "<div style=\"max-height:1000px;max-width:1500px;overflow:auto;\">\n",
        "<table border=\"1\" class=\"dataframe\">\n",
        "  <thead>\n",
        "    <tr style=\"text-align: right;\">\n",
        "      <th></th>\n",
        "      <th>Col1</th>\n",
        "      <th>Text</th>\n",
        "    </tr>\n",
        "  </thead>\n",
        "  <tbody>\n",
        "    <tr>\n",
        "      <th>0</th>\n",
        "      <td>  23</td>\n",
        "      <td> eQTL| 1| 43 , xyz | 4 | 53, eQTL| 54| 854 </td>\n",
        "    </tr>\n",
        "    <tr>\n",
        "      <th>1</th>\n",
        "      <td>  34</td>\n",
        "      <td>              rSNP | 32 | abc , xz | 4 | 53</td>\n",
        "    </tr>\n",
        "    <tr>\n",
        "      <th>2</th>\n",
        "      <td> 453</td>\n",
        "      <td>             eQTL| 454| 9907 , xyz | 4 | 53</td>\n",
        "    </tr>\n",
        "  </tbody>\n",
        "</table>\n",
        "</div>"
       ],
       "metadata": {},
       "output_type": "pyout",
       "prompt_number": 10,
       "text": [
        "   Col1                                        Text\n",
        "0    23  eQTL| 1| 43 , xyz | 4 | 53, eQTL| 54| 854 \n",
        "1    34               rSNP | 32 | abc , xz | 4 | 53\n",
        "2   453              eQTL| 454| 9907 , xyz | 4 | 53"
       ]
      }
     ],
     "prompt_number": 10
    },
    {
     "cell_type": "code",
     "collapsed": false,
     "input": [
      "def find_eQTL(hits):\n",
      "    hits = hits.split(',')\n",
      "    gene = []\n",
      "    tissue = []\n",
      "    for hit in hits:\n",
      "        data = hit.split('|')\n",
      "        if data[0].strip() == 'eQTL':\n",
      "            gene.append(data[1])\n",
      "            tissue.append(data[2])\n",
      "    return gene, tissue"
     ],
     "language": "python",
     "metadata": {},
     "outputs": [],
     "prompt_number": 11
    },
    {
     "cell_type": "code",
     "collapsed": false,
     "input": [
      "result = df2['Text'].apply(find_eQTL)\n",
      "\n",
      "max_number_hits = 0\n",
      "\n",
      "# In this loop the largest number of eQTLs in the results is found.\n",
      "for row in result:\n",
      "    number_hits = len(row[0])\n",
      "    if  number_hits > max_number_hits:\n",
      "        max_number_hits = number_hits\n",
      "\n",
      "# In this loop we add \"eQTL gene n\" for n 1...max_number_hits to the df\n",
      "for index in range(max_number_hits):\n",
      "    df2['eQTL gene ' + str(index + 1)] = np.nan\n",
      "    df2['eQTL tissue ' + str(index + 1)] = np.nan\n",
      "\n",
      "# In this loop we populate the dataframe with the results\n",
      "for ri, row in enumerate(result):\n",
      "    for gi, gene in enumerate(row[0]):\n",
      "        df2['eQTL gene ' + str(gi + 1)].loc[ri] = gene\n",
      "    for ti, tissue in enumerate(row[1]):\n",
      "        df2['eQTL tissue ' + str(ti + 1)].loc[ri] = tissue\n",
      "\n",
      "# Show the results (in IPython notebook)\n",
      "df2"
     ],
     "language": "python",
     "metadata": {},
     "outputs": [
      {
       "html": [
        "<div style=\"max-height:1000px;max-width:1500px;overflow:auto;\">\n",
        "<table border=\"1\" class=\"dataframe\">\n",
        "  <thead>\n",
        "    <tr style=\"text-align: right;\">\n",
        "      <th></th>\n",
        "      <th>Col1</th>\n",
        "      <th>Text</th>\n",
        "      <th>eQTL gene 1</th>\n",
        "      <th>eQTL tissue 1</th>\n",
        "      <th>eQTL gene 2</th>\n",
        "      <th>eQTL tissue 2</th>\n",
        "    </tr>\n",
        "  </thead>\n",
        "  <tbody>\n",
        "    <tr>\n",
        "      <th>0</th>\n",
        "      <td>  23</td>\n",
        "      <td> eQTL| 1| 43 , xyz | 4 | 53, eQTL| 54| 854 </td>\n",
        "      <td>    1</td>\n",
        "      <td>    43 </td>\n",
        "      <td>  54</td>\n",
        "      <td>  854 </td>\n",
        "    </tr>\n",
        "    <tr>\n",
        "      <th>1</th>\n",
        "      <td>  34</td>\n",
        "      <td>              rSNP | 32 | abc , xz | 4 | 53</td>\n",
        "      <td>  NaN</td>\n",
        "      <td>    NaN</td>\n",
        "      <td> NaN</td>\n",
        "      <td>   NaN</td>\n",
        "    </tr>\n",
        "    <tr>\n",
        "      <th>2</th>\n",
        "      <td> 453</td>\n",
        "      <td>             eQTL| 454| 9907 , xyz | 4 | 53</td>\n",
        "      <td>  454</td>\n",
        "      <td>  9907 </td>\n",
        "      <td> NaN</td>\n",
        "      <td>   NaN</td>\n",
        "    </tr>\n",
        "  </tbody>\n",
        "</table>\n",
        "</div>"
       ],
       "metadata": {},
       "output_type": "pyout",
       "prompt_number": 12,
       "text": [
        "   Col1                                        Text eQTL gene 1 eQTL tissue 1  \\\n",
        "0    23  eQTL| 1| 43 , xyz | 4 | 53, eQTL| 54| 854            1           43    \n",
        "1    34               rSNP | 32 | abc , xz | 4 | 53         NaN           NaN   \n",
        "2   453              eQTL| 454| 9907 , xyz | 4 | 53         454         9907    \n",
        "\n",
        "  eQTL gene 2 eQTL tissue 2  \n",
        "0          54          854   \n",
        "1         NaN           NaN  \n",
        "2         NaN           NaN  "
       ]
      }
     ],
     "prompt_number": 12
    }
   ],
   "metadata": {}
  }
 ]
}