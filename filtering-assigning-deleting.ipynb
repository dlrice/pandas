{
 "metadata": {
  "name": "",
  "signature": "sha256:c0cf1c4d944c4597c8fdc42992f7bcd90c6905a77a64350cc15fc691402c2e49"
 },
 "nbformat": 3,
 "nbformat_minor": 0,
 "worksheets": [
  {
   "cells": [
    {
     "cell_type": "code",
     "collapsed": false,
     "input": [
      "import pandas as pd\n",
      "import numpy as np"
     ],
     "language": "python",
     "metadata": {},
     "outputs": [],
     "prompt_number": 2
    },
    {
     "cell_type": "markdown",
     "metadata": {},
     "source": [
      "##Filtering and assigning"
     ]
    },
    {
     "cell_type": "code",
     "collapsed": false,
     "input": [
      "df = pd.DataFrame({'key1' : ['a','a','b','b','a'],\n",
      "                   'key2' : ['one', 'two', 'one', 'two', 'one'],\n",
      "                   'data' : np.random.rand(5)})\n",
      "df"
     ],
     "language": "python",
     "metadata": {},
     "outputs": [
      {
       "html": [
        "<div style=\"max-height:1000px;max-width:1500px;overflow:auto;\">\n",
        "<table border=\"1\" class=\"dataframe\">\n",
        "  <thead>\n",
        "    <tr style=\"text-align: right;\">\n",
        "      <th></th>\n",
        "      <th>data</th>\n",
        "      <th>key1</th>\n",
        "      <th>key2</th>\n",
        "    </tr>\n",
        "  </thead>\n",
        "  <tbody>\n",
        "    <tr>\n",
        "      <th>0</th>\n",
        "      <td> 0.554544</td>\n",
        "      <td> a</td>\n",
        "      <td> one</td>\n",
        "    </tr>\n",
        "    <tr>\n",
        "      <th>1</th>\n",
        "      <td> 0.316441</td>\n",
        "      <td> a</td>\n",
        "      <td> two</td>\n",
        "    </tr>\n",
        "    <tr>\n",
        "      <th>2</th>\n",
        "      <td> 0.445665</td>\n",
        "      <td> b</td>\n",
        "      <td> one</td>\n",
        "    </tr>\n",
        "    <tr>\n",
        "      <th>3</th>\n",
        "      <td> 0.139521</td>\n",
        "      <td> b</td>\n",
        "      <td> two</td>\n",
        "    </tr>\n",
        "    <tr>\n",
        "      <th>4</th>\n",
        "      <td> 0.773688</td>\n",
        "      <td> a</td>\n",
        "      <td> one</td>\n",
        "    </tr>\n",
        "  </tbody>\n",
        "</table>\n",
        "</div>"
       ],
       "metadata": {},
       "output_type": "pyout",
       "prompt_number": 3,
       "text": [
        "       data key1 key2\n",
        "0  0.554544    a  one\n",
        "1  0.316441    a  two\n",
        "2  0.445665    b  one\n",
        "3  0.139521    b  two\n",
        "4  0.773688    a  one"
       ]
      }
     ],
     "prompt_number": 3
    },
    {
     "cell_type": "markdown",
     "metadata": {},
     "source": [
      "I've made up these arbitrary conditions where key1 must be equal to 'a' and data must be greater than 0.5. We can add whatever we like to condition on each row. What will get is a Series object of booleans with True indicating all our conditions were met."
     ]
    },
    {
     "cell_type": "code",
     "collapsed": false,
     "input": [
      "ind = (df['key1'] == 'a') & (df['data'] > 0.2)"
     ],
     "language": "python",
     "metadata": {},
     "outputs": [],
     "prompt_number": 4
    },
    {
     "cell_type": "code",
     "collapsed": false,
     "input": [
      "ind"
     ],
     "language": "python",
     "metadata": {},
     "outputs": [
      {
       "metadata": {},
       "output_type": "pyout",
       "prompt_number": 5,
       "text": [
        "0     True\n",
        "1     True\n",
        "2    False\n",
        "3    False\n",
        "4     True\n",
        "dtype: bool"
       ]
      }
     ],
     "prompt_number": 5
    },
    {
     "cell_type": "code",
     "collapsed": false,
     "input": [
      "type(ind)"
     ],
     "language": "python",
     "metadata": {},
     "outputs": [
      {
       "metadata": {},
       "output_type": "pyout",
       "prompt_number": 6,
       "text": [
        "pandas.core.series.Series"
       ]
      }
     ],
     "prompt_number": 6
    },
    {
     "cell_type": "markdown",
     "metadata": {},
     "source": [
      "We are now using the ind to both access and assign:"
     ]
    },
    {
     "cell_type": "code",
     "collapsed": false,
     "input": [
      "df.loc[ind, 'key2'] = df.loc[ind, 'data']"
     ],
     "language": "python",
     "metadata": {},
     "outputs": [],
     "prompt_number": 7
    },
    {
     "cell_type": "markdown",
     "metadata": {},
     "source": [
      "You should now see only the relevant rows changed."
     ]
    },
    {
     "cell_type": "code",
     "collapsed": false,
     "input": [
      "df"
     ],
     "language": "python",
     "metadata": {},
     "outputs": [
      {
       "html": [
        "<div style=\"max-height:1000px;max-width:1500px;overflow:auto;\">\n",
        "<table border=\"1\" class=\"dataframe\">\n",
        "  <thead>\n",
        "    <tr style=\"text-align: right;\">\n",
        "      <th></th>\n",
        "      <th>data</th>\n",
        "      <th>key1</th>\n",
        "      <th>key2</th>\n",
        "    </tr>\n",
        "  </thead>\n",
        "  <tbody>\n",
        "    <tr>\n",
        "      <th>0</th>\n",
        "      <td> 0.554544</td>\n",
        "      <td> a</td>\n",
        "      <td>  0.554544</td>\n",
        "    </tr>\n",
        "    <tr>\n",
        "      <th>1</th>\n",
        "      <td> 0.316441</td>\n",
        "      <td> a</td>\n",
        "      <td> 0.3164415</td>\n",
        "    </tr>\n",
        "    <tr>\n",
        "      <th>2</th>\n",
        "      <td> 0.445665</td>\n",
        "      <td> b</td>\n",
        "      <td>       one</td>\n",
        "    </tr>\n",
        "    <tr>\n",
        "      <th>3</th>\n",
        "      <td> 0.139521</td>\n",
        "      <td> b</td>\n",
        "      <td>       two</td>\n",
        "    </tr>\n",
        "    <tr>\n",
        "      <th>4</th>\n",
        "      <td> 0.773688</td>\n",
        "      <td> a</td>\n",
        "      <td>  0.773688</td>\n",
        "    </tr>\n",
        "  </tbody>\n",
        "</table>\n",
        "</div>"
       ],
       "metadata": {},
       "output_type": "pyout",
       "prompt_number": 8,
       "text": [
        "       data key1       key2\n",
        "0  0.554544    a   0.554544\n",
        "1  0.316441    a  0.3164415\n",
        "2  0.445665    b        one\n",
        "3  0.139521    b        two\n",
        "4  0.773688    a   0.773688"
       ]
      }
     ],
     "prompt_number": 8
    },
    {
     "cell_type": "markdown",
     "metadata": {},
     "source": [
      "##Filtering and deleting"
     ]
    },
    {
     "cell_type": "markdown",
     "metadata": {},
     "source": [
      "Let's suppose we want to filter on the type of elements in the key2 column. We want to throw away any string entries. First, generate an arbitrary DataFrame for demonstration purposes:"
     ]
    },
    {
     "cell_type": "code",
     "collapsed": false,
     "input": [
      "df = pd.DataFrame({'key1' : ['a','a','b','b','a'],\n",
      "                   'key2' : [0.2, np.pi, 'one', 'two', 0.75],\n",
      "                   'data' : np.random.rand(5)})\n",
      "df"
     ],
     "language": "python",
     "metadata": {},
     "outputs": [
      {
       "html": [
        "<div style=\"max-height:1000px;max-width:1500px;overflow:auto;\">\n",
        "<table border=\"1\" class=\"dataframe\">\n",
        "  <thead>\n",
        "    <tr style=\"text-align: right;\">\n",
        "      <th></th>\n",
        "      <th>data</th>\n",
        "      <th>key1</th>\n",
        "      <th>key2</th>\n",
        "    </tr>\n",
        "  </thead>\n",
        "  <tbody>\n",
        "    <tr>\n",
        "      <th>0</th>\n",
        "      <td> 0.856931</td>\n",
        "      <td> a</td>\n",
        "      <td>      0.2</td>\n",
        "    </tr>\n",
        "    <tr>\n",
        "      <th>1</th>\n",
        "      <td> 0.334837</td>\n",
        "      <td> a</td>\n",
        "      <td> 3.141593</td>\n",
        "    </tr>\n",
        "    <tr>\n",
        "      <th>2</th>\n",
        "      <td> 0.061026</td>\n",
        "      <td> b</td>\n",
        "      <td>      one</td>\n",
        "    </tr>\n",
        "    <tr>\n",
        "      <th>3</th>\n",
        "      <td> 0.661182</td>\n",
        "      <td> b</td>\n",
        "      <td>      two</td>\n",
        "    </tr>\n",
        "    <tr>\n",
        "      <th>4</th>\n",
        "      <td> 0.891112</td>\n",
        "      <td> a</td>\n",
        "      <td>     0.75</td>\n",
        "    </tr>\n",
        "  </tbody>\n",
        "</table>\n",
        "</div>"
       ],
       "metadata": {},
       "output_type": "pyout",
       "prompt_number": 9,
       "text": [
        "       data key1      key2\n",
        "0  0.856931    a       0.2\n",
        "1  0.334837    a  3.141593\n",
        "2  0.061026    b       one\n",
        "3  0.661182    b       two\n",
        "4  0.891112    a      0.75"
       ]
      }
     ],
     "prompt_number": 9
    },
    {
     "cell_type": "markdown",
     "metadata": {},
     "source": [
      "Need to figure the indices one by one as we cannot \"broadcast\" the type operation for the whole column like we did above. We can do this with a list comprehension. Notice that I have filtered on the locations where the element is not a string, this is because I am going to use the True locations to keep the data."
     ]
    },
    {
     "cell_type": "code",
     "collapsed": false,
     "input": [
      "ind = [type(el) != str for el in df['key2']]"
     ],
     "language": "python",
     "metadata": {},
     "outputs": [],
     "prompt_number": 10
    },
    {
     "cell_type": "code",
     "collapsed": false,
     "input": [
      "ind"
     ],
     "language": "python",
     "metadata": {},
     "outputs": [
      {
       "metadata": {},
       "output_type": "pyout",
       "prompt_number": 11,
       "text": [
        "[True, True, False, False, True]"
       ]
      }
     ],
     "prompt_number": 11
    },
    {
     "cell_type": "markdown",
     "metadata": {},
     "source": [
      "Now I am going to assign df to only the rows where ind is True:"
     ]
    },
    {
     "cell_type": "code",
     "collapsed": false,
     "input": [
      "df = df[ind]"
     ],
     "language": "python",
     "metadata": {},
     "outputs": [],
     "prompt_number": 12
    },
    {
     "cell_type": "markdown",
     "metadata": {},
     "source": [
      "Now df only has three rows where where key2 entries will be string free"
     ]
    },
    {
     "cell_type": "code",
     "collapsed": false,
     "input": [
      "df"
     ],
     "language": "python",
     "metadata": {},
     "outputs": [
      {
       "html": [
        "<div style=\"max-height:1000px;max-width:1500px;overflow:auto;\">\n",
        "<table border=\"1\" class=\"dataframe\">\n",
        "  <thead>\n",
        "    <tr style=\"text-align: right;\">\n",
        "      <th></th>\n",
        "      <th>data</th>\n",
        "      <th>key1</th>\n",
        "      <th>key2</th>\n",
        "    </tr>\n",
        "  </thead>\n",
        "  <tbody>\n",
        "    <tr>\n",
        "      <th>0</th>\n",
        "      <td> 0.856931</td>\n",
        "      <td> a</td>\n",
        "      <td>      0.2</td>\n",
        "    </tr>\n",
        "    <tr>\n",
        "      <th>1</th>\n",
        "      <td> 0.334837</td>\n",
        "      <td> a</td>\n",
        "      <td> 3.141593</td>\n",
        "    </tr>\n",
        "    <tr>\n",
        "      <th>4</th>\n",
        "      <td> 0.891112</td>\n",
        "      <td> a</td>\n",
        "      <td>     0.75</td>\n",
        "    </tr>\n",
        "  </tbody>\n",
        "</table>\n",
        "</div>"
       ],
       "metadata": {},
       "output_type": "pyout",
       "prompt_number": 13,
       "text": [
        "       data key1      key2\n",
        "0  0.856931    a       0.2\n",
        "1  0.334837    a  3.141593\n",
        "4  0.891112    a      0.75"
       ]
      }
     ],
     "prompt_number": 13
    },
    {
     "cell_type": "markdown",
     "metadata": {},
     "source": [
      "Let try that again with a different condition: we want to throw away anything greater than or equal to 0.4. First, regenerate an example dataframe:"
     ]
    },
    {
     "cell_type": "code",
     "collapsed": false,
     "input": [
      "df = pd.DataFrame({'key1' : ['a','a','b','b','a'],\n",
      "                   'key2' : [0.2, np.pi, 'one', 'two', 0.75],\n",
      "                   'data' : np.random.rand(5)})\n",
      "df"
     ],
     "language": "python",
     "metadata": {},
     "outputs": [
      {
       "html": [
        "<div style=\"max-height:1000px;max-width:1500px;overflow:auto;\">\n",
        "<table border=\"1\" class=\"dataframe\">\n",
        "  <thead>\n",
        "    <tr style=\"text-align: right;\">\n",
        "      <th></th>\n",
        "      <th>data</th>\n",
        "      <th>key1</th>\n",
        "      <th>key2</th>\n",
        "    </tr>\n",
        "  </thead>\n",
        "  <tbody>\n",
        "    <tr>\n",
        "      <th>0</th>\n",
        "      <td> 0.964791</td>\n",
        "      <td> a</td>\n",
        "      <td>      0.2</td>\n",
        "    </tr>\n",
        "    <tr>\n",
        "      <th>1</th>\n",
        "      <td> 0.825948</td>\n",
        "      <td> a</td>\n",
        "      <td> 3.141593</td>\n",
        "    </tr>\n",
        "    <tr>\n",
        "      <th>2</th>\n",
        "      <td> 0.961607</td>\n",
        "      <td> b</td>\n",
        "      <td>      one</td>\n",
        "    </tr>\n",
        "    <tr>\n",
        "      <th>3</th>\n",
        "      <td> 0.381186</td>\n",
        "      <td> b</td>\n",
        "      <td>      two</td>\n",
        "    </tr>\n",
        "    <tr>\n",
        "      <th>4</th>\n",
        "      <td> 0.042018</td>\n",
        "      <td> a</td>\n",
        "      <td>     0.75</td>\n",
        "    </tr>\n",
        "  </tbody>\n",
        "</table>\n",
        "</div>"
       ],
       "metadata": {},
       "output_type": "pyout",
       "prompt_number": 18,
       "text": [
        "       data key1      key2\n",
        "0  0.964791    a       0.2\n",
        "1  0.825948    a  3.141593\n",
        "2  0.961607    b       one\n",
        "3  0.381186    b       two\n",
        "4  0.042018    a      0.75"
       ]
      }
     ],
     "prompt_number": 18
    },
    {
     "cell_type": "markdown",
     "metadata": {},
     "source": [
      "We can conveniently broadcast the inequality (no need for the list comprehension as in the example immediately above)."
     ]
    },
    {
     "cell_type": "code",
     "collapsed": false,
     "input": [
      "ind = df['data'] < 0.4"
     ],
     "language": "python",
     "metadata": {},
     "outputs": [],
     "prompt_number": 19
    },
    {
     "cell_type": "code",
     "collapsed": false,
     "input": [
      "df = df[ind]"
     ],
     "language": "python",
     "metadata": {},
     "outputs": [],
     "prompt_number": 20
    },
    {
     "cell_type": "code",
     "collapsed": false,
     "input": [
      "df"
     ],
     "language": "python",
     "metadata": {},
     "outputs": [
      {
       "html": [
        "<div style=\"max-height:1000px;max-width:1500px;overflow:auto;\">\n",
        "<table border=\"1\" class=\"dataframe\">\n",
        "  <thead>\n",
        "    <tr style=\"text-align: right;\">\n",
        "      <th></th>\n",
        "      <th>data</th>\n",
        "      <th>key1</th>\n",
        "      <th>key2</th>\n",
        "    </tr>\n",
        "  </thead>\n",
        "  <tbody>\n",
        "    <tr>\n",
        "      <th>3</th>\n",
        "      <td> 0.381186</td>\n",
        "      <td> b</td>\n",
        "      <td>  two</td>\n",
        "    </tr>\n",
        "    <tr>\n",
        "      <th>4</th>\n",
        "      <td> 0.042018</td>\n",
        "      <td> a</td>\n",
        "      <td> 0.75</td>\n",
        "    </tr>\n",
        "  </tbody>\n",
        "</table>\n",
        "</div>"
       ],
       "metadata": {},
       "output_type": "pyout",
       "prompt_number": 21,
       "text": [
        "       data key1  key2\n",
        "3  0.381186    b   two\n",
        "4  0.042018    a  0.75"
       ]
      }
     ],
     "prompt_number": 21
    },
    {
     "cell_type": "code",
     "collapsed": false,
     "input": [],
     "language": "python",
     "metadata": {},
     "outputs": []
    }
   ],
   "metadata": {}
  }
 ]
}